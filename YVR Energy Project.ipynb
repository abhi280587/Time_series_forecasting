{
 "cells": [
  {
   "cell_type": "markdown",
   "metadata": {},
   "source": [
    "<div class=\"alert alert-block alert-info\">   \n",
    "\n",
    "# BABS 502 Project  \n",
    "#### Instructor: Martha Essak  \n",
    "\n",
    "</div>"
   ]
  },
  {
   "cell_type": "markdown",
   "metadata": {},
   "source": [
    "## Instructions and reminders for Jupyter notebooks\n",
    "\n",
    "**Add markdown and code cells as needed to complete your project.** Please do not modify the headings of the sections.\n",
    "\n",
    "Helpful notes abouts markdown in Jupyter to get you started:\n",
    "* When you have a cell selected (by clicking on the white space to the left of the cell) in Command mode (blue box around the cell), press `a` or `b` to add a cell \"above\" or \"below\"\n",
    "* In Command mode, press `d` twice to delete the cell. Press z to undo deleting a cell\n",
    "* In Command mode, press `m` to change a code cell to a markdown cell, or press `y` to change a markdown cell to a code cell\n",
    "* In Command mode, press `x` to cut cell, `c` to copy cell, and `v` to paste cell below the selected cell\n",
    "  \n",
    "* Double click a cell to enter Edit mode (green box around the cell), or press `Enter`\n",
    "* Add two empty spaces at the end of a line to add a line break\n",
    "* Press `shift + enter` to execute a cell to see either the formatted version (for a markdown cell) or to run the code (for a code cell). This will cause you to leave edit mode.\n",
    "* Press `Ctrl + Shift + -` to split the current cell into two cells where the cursor is\n",
    "* Press `Shift + m` to merge multiple cells. You can use `Shift + up arrow` or `Shift + down` arrow to select multiple cells.\n",
    "\n",
    "\n",
    "\n",
    "[See cheat sheet for Markdown in Jupyter for more details](https://medium.com/analytics-vidhya/the-ultimate-markdown-guide-for-jupyter-notebook-d5e5abf728fd)"
   ]
  },
  {
   "cell_type": "markdown",
   "metadata": {},
   "source": [
    "### Names of students:\n",
    "<code style=\"background:yellow;color:black\">\n",
    "Fill in student names below, then remove the highlighting by deleting the code style.  \n",
    "<br>\n",
    "Abhilash Yadav (59925800)  \n",
    "Yash Singhai (Student_number_2) \n",
    "</code> "
   ]
  },
  {
   "cell_type": "markdown",
   "metadata": {},
   "source": [
    "---\n",
    "\n",
    "## Table of Contents\n",
    "[Project description](#Description)  \n",
    "[Part A: Time plot, trying transformations/adjustments, creating training and test set](#PartA)  \n",
    "[Part B](#PartB)  \n",
    "[Introduction & Approach](#Introduction)  \n",
    "[Exploratory Data Analysis](#EDA1)  \n",
    "[Potential causes of patterns](#Causes)   \n",
    "[Exponential Smoothing Model](#ETS)  \n",
    "[ARIMA model](#ARIMA)  \n",
    "[Comparison of models](#Compare)  \n",
    "[Forecasts](#Forecast)  \n",
    "[Discussion](#Discussion)  \n",
    "[Explanatory model](#Explanatory)\n",
    "\n",
    "\n",
    "[Appendix A: ETS Models](#AppendixA)  \n",
    "[Appendix B: ARIMA Models](#AppendixB)\n",
    "\n",
    "---"
   ]
  },
  {
   "cell_type": "markdown",
   "metadata": {},
   "source": [
    "<div class=\"alert alert-block alert-info\">   \n",
    "<a id=\"Description\"></a>\n",
    "\n",
    "# Project description\n",
    "\n",
    "**Objective**  \n",
    "\n",
    "The main goal of this project is to develop a model to forecast monthly energy use for the Vancouver International Airport (YVR).  \n",
    "\n",
    "<br>\n",
    "\n",
    "**Introduction**  \n",
    "\n",
    "Budget planning at YVR requires forecasting the cost of energy to operate the airport. An accurate forecast could help the YVR representatives negotiate more favourable contracts with energy suppliers.\n",
    "\n",
    "<br>\n",
    "\n",
    "**Data Available**  \n",
    "\n",
    "Data was taken from 14 years of records from the YVR database. This data set includes information on date, energy use, temperature, terminal area, and number of passengers. Data have been aggregated by month into 168 records (14 years with 12 months each).  \n",
    "\n",
    "<br>\n",
    "\n",
    "\n",
    "| # | Variable | Definition |  \n",
    "| :- | :- | :- |  \n",
    "| 1 | month | Month and year, e.g.: Nov-98 |\n",
    "| 2 | energy | Energy use measured in thousands of kilowatt hours (kWh) |\n",
    "| 3 | mean.temp | Mean monthly temperature outside (degrees Celsius) |\n",
    "| 4 | total.area | Total area of all terminals (sq. m.) |\n",
    "| 5 | total.passengers | Total number of passengers in thousands |\n",
    "| 6 | domestic.passengers | Total number of domestic passengers (traveling within Canada) in thousands |\n",
    "| 7 | US.passengers | Total number of passengers traveling between Canada and the US in thousands |\n",
    "| 8 | international.passengers | Total number of passengers traveling between YVR and countries other than Canada/US |\n",
    "\n",
    "\n",
    "In this project, you will develop appropriate models, compare the models, and discuss advantages and limitations of each model. You should select the best model and use it to provide monthly forecasts for energy use for the next three years (January 2011 through December 2013).   \n",
    "    </div>"
   ]
  },
  {
   "cell_type": "markdown",
   "metadata": {},
   "source": [
    "---"
   ]
  },
  {
   "cell_type": "markdown",
   "metadata": {},
   "source": [
    "<div class=\"alert alert-block alert-info\">   \n",
    "\n",
    "# Part A (3.5 marks)\n",
    "## Time plot, trying transformations/adjustments, creating training and test set\n",
    "### See Canvas submission called \"Project: Part A\" for detailed questions and points breakdown.\n",
    "<a id=\"PartA\"></a>  \n",
    "\n",
    "</div>"
   ]
  },
  {
   "cell_type": "markdown",
   "metadata": {},
   "source": [
    "\n",
    "### Import the data"
   ]
  },
  {
   "cell_type": "code",
   "execution_count": 22,
   "metadata": {},
   "outputs": [
    {
     "data": {
      "text/html": [
       "<table>\n",
       "<thead><tr><th scope=col>month</th><th scope=col>energy</th><th scope=col>mean.temp</th><th scope=col>total.area</th><th scope=col>total.passengers</th><th scope=col>domestic.passengers</th><th scope=col>US.passengers</th><th scope=col>international.passengers</th></tr></thead>\n",
       "<tbody>\n",
       "\t<tr><td>Jan-97 </td><td>5958   </td><td> 3.9   </td><td>202966 </td><td>1068.36</td><td>573.84 </td><td>263.13 </td><td>231.38 </td></tr>\n",
       "\t<tr><td>Feb-97 </td><td>5859   </td><td> 5.0   </td><td>202966 </td><td>1040.30</td><td>570.36 </td><td>267.39 </td><td>202.56 </td></tr>\n",
       "\t<tr><td>Mar-97 </td><td>5230   </td><td> 6.3   </td><td>202966 </td><td>1195.47</td><td>632.68 </td><td>319.09 </td><td>243.71 </td></tr>\n",
       "\t<tr><td>Apr-97 </td><td>5654   </td><td> 9.1   </td><td>202966 </td><td>1086.42</td><td>599.11 </td><td>265.37 </td><td>221.94 </td></tr>\n",
       "\t<tr><td>May-97 </td><td>5618   </td><td>14.0   </td><td>202966 </td><td>1244.52</td><td>673.70 </td><td>307.55 </td><td>263.27 </td></tr>\n",
       "\t<tr><td>Jun-97 </td><td>5963   </td><td>15.6   </td><td>202966 </td><td>1352.89</td><td>729.84 </td><td>333.89 </td><td>289.16 </td></tr>\n",
       "\t<tr><td>Jul-97 </td><td>5920   </td><td>17.7   </td><td>202966 </td><td>1517.17</td><td>807.90 </td><td>388.91 </td><td>320.36 </td></tr>\n",
       "\t<tr><td>Aug-97 </td><td>6430   </td><td>19.0   </td><td>202966 </td><td>1668.83</td><td>869.27 </td><td>428.65 </td><td>370.91 </td></tr>\n",
       "\t<tr><td>Sep-97 </td><td>6053   </td><td>15.9   </td><td>202966 </td><td>1348.09</td><td>714.28 </td><td>330.92 </td><td>302.89 </td></tr>\n",
       "\t<tr><td>Oct-97 </td><td>5514   </td><td>10.4   </td><td>202966 </td><td>1195.02</td><td>662.97 </td><td>286.39 </td><td>245.66 </td></tr>\n",
       "\t<tr><td>Nov-97 </td><td>5633   </td><td> 7.4   </td><td>202966 </td><td> 964.90</td><td>523.70 </td><td>251.00 </td><td>190.20 </td></tr>\n",
       "\t<tr><td>Dec-97 </td><td>5545   </td><td> 4.8   </td><td>202966 </td><td>1136.60</td><td>616.81 </td><td>291.19 </td><td>228.60 </td></tr>\n",
       "\t<tr><td>Jan-98 </td><td>5825   </td><td> 4.5   </td><td>202966 </td><td>1116.81</td><td>558.84 </td><td>305.16 </td><td>252.82 </td></tr>\n",
       "\t<tr><td>Feb-98 </td><td>5617   </td><td> 7.1   </td><td>202966 </td><td>1022.71</td><td>536.99 </td><td>278.95 </td><td>206.77 </td></tr>\n",
       "\t<tr><td>Mar-98 </td><td>4970   </td><td> 7.9   </td><td>202966 </td><td>1207.28</td><td>625.68 </td><td>337.42 </td><td>244.18 </td></tr>\n",
       "\t<tr><td>Apr-98 </td><td>5331   </td><td> 9.6   </td><td>202966 </td><td>1134.33</td><td>609.17 </td><td>293.56 </td><td>231.59 </td></tr>\n",
       "\t<tr><td>May-98 </td><td>5233   </td><td>13.4   </td><td>202966 </td><td>1309.21</td><td>696.82 </td><td>352.11 </td><td>260.28 </td></tr>\n",
       "\t<tr><td>Jun-98 </td><td>5557   </td><td>16.5   </td><td>202966 </td><td>1419.28</td><td>744.52 </td><td>375.07 </td><td>299.69 </td></tr>\n",
       "\t<tr><td>Jul-98 </td><td>5841   </td><td>19.3   </td><td>202966 </td><td>1597.61</td><td>828.03 </td><td>434.96 </td><td>334.62 </td></tr>\n",
       "\t<tr><td>Aug-98 </td><td>6489   </td><td>19.1   </td><td>202966 </td><td>1736.54</td><td>887.10 </td><td>478.04 </td><td>371.41 </td></tr>\n",
       "\t<tr><td>Sep-98 </td><td>6138   </td><td>16.1   </td><td>202966 </td><td>1385.78</td><td>715.39 </td><td>371.92 </td><td>298.47 </td></tr>\n",
       "\t<tr><td>Oct-98 </td><td>5539   </td><td>10.8   </td><td>202966 </td><td>1321.31</td><td>757.49 </td><td>309.21 </td><td>254.62 </td></tr>\n",
       "\t<tr><td>Nov-98 </td><td>5667   </td><td> 7.9   </td><td>202966 </td><td>1046.53</td><td>581.06 </td><td>276.43 </td><td>189.04 </td></tr>\n",
       "\t<tr><td>Dec-98 </td><td>5730   </td><td> 3.7   </td><td>202966 </td><td>1210.72</td><td>674.27 </td><td>309.70 </td><td>226.76 </td></tr>\n",
       "\t<tr><td>Jan-99 </td><td>6030   </td><td> 5.0   </td><td>224515 </td><td>1151.30</td><td>591.32 </td><td>315.47 </td><td>244.51 </td></tr>\n",
       "\t<tr><td>Feb-99 </td><td>5954   </td><td> 5.5   </td><td>224515 </td><td>1108.20</td><td>588.72 </td><td>296.50 </td><td>222.98 </td></tr>\n",
       "\t<tr><td>Mar-99 </td><td>5326   </td><td> 6.4   </td><td>224515 </td><td>1302.49</td><td>676.13 </td><td>365.36 </td><td>261.01 </td></tr>\n",
       "\t<tr><td>Apr-99 </td><td>5672   </td><td> 8.7   </td><td>224515 </td><td>1203.50</td><td>660.83 </td><td>294.30 </td><td>248.37 </td></tr>\n",
       "\t<tr><td>May-99 </td><td>5301   </td><td>11.3   </td><td>224515 </td><td>1341.70</td><td>716.13 </td><td>349.05 </td><td>276.52 </td></tr>\n",
       "\t<tr><td>Jun-99 </td><td>5777   </td><td>14.5   </td><td>248046 </td><td>1422.09</td><td>738.74 </td><td>369.82 </td><td>313.52 </td></tr>\n",
       "\t<tr><td>...</td><td>...</td><td>...</td><td>...</td><td>...</td><td>...</td><td>...</td><td>...</td></tr>\n",
       "\t<tr><td>08-Jul </td><td>7788   </td><td>17.8   </td><td>302279 </td><td>1798.42</td><td>902.69 </td><td>465.21 </td><td>430.52 </td></tr>\n",
       "\t<tr><td>08-Aug </td><td>8120   </td><td>17.8   </td><td>302279 </td><td>1892.90</td><td>971.06 </td><td>484.17 </td><td>437.67 </td></tr>\n",
       "\t<tr><td>08-Sep </td><td>7628   </td><td>14.6   </td><td>302279 </td><td>1440.72</td><td>768.00 </td><td>321.68 </td><td>351.04 </td></tr>\n",
       "\t<tr><td>08-Oct </td><td>7099   </td><td>10.0   </td><td>302279 </td><td>1327.44</td><td>757.37 </td><td>279.68 </td><td>290.40 </td></tr>\n",
       "\t<tr><td>08-Nov </td><td>7385   </td><td> 8.1   </td><td>302279 </td><td>1173.36</td><td>646.74 </td><td>266.58 </td><td>260.04 </td></tr>\n",
       "\t<tr><td>08-Dec </td><td>7481   </td><td> 0.9   </td><td>302279 </td><td>1322.42</td><td>697.35 </td><td>312.30 </td><td>312.77 </td></tr>\n",
       "\t<tr><td>09-Jan </td><td>7852   </td><td> 2.1   </td><td>302279 </td><td>1284.29</td><td>636.95 </td><td>311.61 </td><td>335.73 </td></tr>\n",
       "\t<tr><td>09-Feb </td><td>7773   </td><td> 4.0   </td><td>303079 </td><td>1207.57</td><td>631.33 </td><td>299.73 </td><td>276.52 </td></tr>\n",
       "\t<tr><td>09-Mar </td><td>6859   </td><td> 4.9   </td><td>303079 </td><td>1355.32</td><td>693.37 </td><td>345.08 </td><td>316.87 </td></tr>\n",
       "\t<tr><td>09-Apr </td><td>7410   </td><td> 9.1   </td><td>303079 </td><td>1286.71</td><td>684.15 </td><td>308.12 </td><td>294.44 </td></tr>\n",
       "\t<tr><td>09-May </td><td>6918   </td><td>12.7   </td><td>303079 </td><td>1319.13</td><td>728.76 </td><td>311.54 </td><td>278.82 </td></tr>\n",
       "\t<tr><td>09-Jun </td><td>7759   </td><td>17.4   </td><td>303079 </td><td>1380.84</td><td>749.46 </td><td>334.37 </td><td>297.02 </td></tr>\n",
       "\t<tr><td>09-Jul </td><td>7718   </td><td>19.6   </td><td>311585 </td><td>1592.11</td><td>836.96 </td><td>399.14 </td><td>356.01 </td></tr>\n",
       "\t<tr><td>09-Aug </td><td>8630   </td><td>18.0   </td><td>319585 </td><td>1710.56</td><td>917.86 </td><td>416.51 </td><td>376.18 </td></tr>\n",
       "\t<tr><td>09-Sep </td><td>8121   </td><td>15.7   </td><td>319585 </td><td>1376.56</td><td>747.05 </td><td>305.31 </td><td>324.21 </td></tr>\n",
       "\t<tr><td>09-Oct </td><td>7423   </td><td>10.0   </td><td>319585 </td><td>1240.26</td><td>719.00 </td><td>257.39 </td><td>263.87 </td></tr>\n",
       "\t<tr><td>09-Nov </td><td>7809   </td><td> 7.1   </td><td>319585 </td><td>1112.12</td><td>620.28 </td><td>248.28 </td><td>243.56 </td></tr>\n",
       "\t<tr><td>09-Dec </td><td>7841   </td><td> 2.1   </td><td>319585 </td><td>1313.85</td><td>712.19 </td><td>311.52 </td><td>290.14 </td></tr>\n",
       "\t<tr><td>10-Jan </td><td>8171   </td><td> 7.2   </td><td>319585 </td><td>1260.26</td><td>649.74 </td><td>307.88 </td><td>302.64 </td></tr>\n",
       "\t<tr><td>10-Feb </td><td>8101   </td><td> 7.1   </td><td>319585 </td><td>1248.45</td><td>641.93 </td><td>326.96 </td><td>279.56 </td></tr>\n",
       "\t<tr><td>10-Mar </td><td>7306   </td><td> 7.7   </td><td>319585 </td><td>1395.60</td><td>718.58 </td><td>362.98 </td><td>314.04 </td></tr>\n",
       "\t<tr><td>10-Apr </td><td>7877   </td><td> 9.6   </td><td>319585 </td><td>1315.79</td><td>700.04 </td><td>330.79 </td><td>284.96 </td></tr>\n",
       "\t<tr><td>10-May </td><td>7575   </td><td>12.0   </td><td>319585 </td><td>1415.24</td><td>756.88 </td><td>339.98 </td><td>318.38 </td></tr>\n",
       "\t<tr><td>10-Jun </td><td>7740   </td><td>15.0   </td><td>319585 </td><td>1494.30</td><td>781.15 </td><td>360.54 </td><td>352.62 </td></tr>\n",
       "\t<tr><td>10-Jul </td><td>8149   </td><td>18.1   </td><td>319585 </td><td>1667.07</td><td>844.64 </td><td>424.63 </td><td>397.79 </td></tr>\n",
       "\t<tr><td>10-Aug </td><td>8813   </td><td>18.2   </td><td>319585 </td><td>1704.74</td><td>886.16 </td><td>421.92 </td><td>396.66 </td></tr>\n",
       "\t<tr><td>10-Sep </td><td>8154   </td><td>15.3   </td><td>319585 </td><td>1417.72</td><td>740.51 </td><td>325.56 </td><td>351.65 </td></tr>\n",
       "\t<tr><td>10-Oct </td><td>7635   </td><td>11.3   </td><td>319585 </td><td>1331.31</td><td>721.73 </td><td>308.32 </td><td>301.25 </td></tr>\n",
       "\t<tr><td>10-Nov </td><td>7932   </td><td> 5.1   </td><td>319585 </td><td>1176.74</td><td>623.44 </td><td>293.05 </td><td>260.25 </td></tr>\n",
       "\t<tr><td>10-Dec </td><td>7975   </td><td> 4.9   </td><td>319585 </td><td>1352.50</td><td>716.61 </td><td>331.34 </td><td>304.56 </td></tr>\n",
       "</tbody>\n",
       "</table>\n"
      ],
      "text/latex": [
       "\\begin{tabular}{r|llllllll}\n",
       " month & energy & mean.temp & total.area & total.passengers & domestic.passengers & US.passengers & international.passengers\\\\\n",
       "\\hline\n",
       "\t Jan-97  & 5958    &  3.9    & 202966  & 1068.36 & 573.84  & 263.13  & 231.38 \\\\\n",
       "\t Feb-97  & 5859    &  5.0    & 202966  & 1040.30 & 570.36  & 267.39  & 202.56 \\\\\n",
       "\t Mar-97  & 5230    &  6.3    & 202966  & 1195.47 & 632.68  & 319.09  & 243.71 \\\\\n",
       "\t Apr-97  & 5654    &  9.1    & 202966  & 1086.42 & 599.11  & 265.37  & 221.94 \\\\\n",
       "\t May-97  & 5618    & 14.0    & 202966  & 1244.52 & 673.70  & 307.55  & 263.27 \\\\\n",
       "\t Jun-97  & 5963    & 15.6    & 202966  & 1352.89 & 729.84  & 333.89  & 289.16 \\\\\n",
       "\t Jul-97  & 5920    & 17.7    & 202966  & 1517.17 & 807.90  & 388.91  & 320.36 \\\\\n",
       "\t Aug-97  & 6430    & 19.0    & 202966  & 1668.83 & 869.27  & 428.65  & 370.91 \\\\\n",
       "\t Sep-97  & 6053    & 15.9    & 202966  & 1348.09 & 714.28  & 330.92  & 302.89 \\\\\n",
       "\t Oct-97  & 5514    & 10.4    & 202966  & 1195.02 & 662.97  & 286.39  & 245.66 \\\\\n",
       "\t Nov-97  & 5633    &  7.4    & 202966  &  964.90 & 523.70  & 251.00  & 190.20 \\\\\n",
       "\t Dec-97  & 5545    &  4.8    & 202966  & 1136.60 & 616.81  & 291.19  & 228.60 \\\\\n",
       "\t Jan-98  & 5825    &  4.5    & 202966  & 1116.81 & 558.84  & 305.16  & 252.82 \\\\\n",
       "\t Feb-98  & 5617    &  7.1    & 202966  & 1022.71 & 536.99  & 278.95  & 206.77 \\\\\n",
       "\t Mar-98  & 4970    &  7.9    & 202966  & 1207.28 & 625.68  & 337.42  & 244.18 \\\\\n",
       "\t Apr-98  & 5331    &  9.6    & 202966  & 1134.33 & 609.17  & 293.56  & 231.59 \\\\\n",
       "\t May-98  & 5233    & 13.4    & 202966  & 1309.21 & 696.82  & 352.11  & 260.28 \\\\\n",
       "\t Jun-98  & 5557    & 16.5    & 202966  & 1419.28 & 744.52  & 375.07  & 299.69 \\\\\n",
       "\t Jul-98  & 5841    & 19.3    & 202966  & 1597.61 & 828.03  & 434.96  & 334.62 \\\\\n",
       "\t Aug-98  & 6489    & 19.1    & 202966  & 1736.54 & 887.10  & 478.04  & 371.41 \\\\\n",
       "\t Sep-98  & 6138    & 16.1    & 202966  & 1385.78 & 715.39  & 371.92  & 298.47 \\\\\n",
       "\t Oct-98  & 5539    & 10.8    & 202966  & 1321.31 & 757.49  & 309.21  & 254.62 \\\\\n",
       "\t Nov-98  & 5667    &  7.9    & 202966  & 1046.53 & 581.06  & 276.43  & 189.04 \\\\\n",
       "\t Dec-98  & 5730    &  3.7    & 202966  & 1210.72 & 674.27  & 309.70  & 226.76 \\\\\n",
       "\t Jan-99  & 6030    &  5.0    & 224515  & 1151.30 & 591.32  & 315.47  & 244.51 \\\\\n",
       "\t Feb-99  & 5954    &  5.5    & 224515  & 1108.20 & 588.72  & 296.50  & 222.98 \\\\\n",
       "\t Mar-99  & 5326    &  6.4    & 224515  & 1302.49 & 676.13  & 365.36  & 261.01 \\\\\n",
       "\t Apr-99  & 5672    &  8.7    & 224515  & 1203.50 & 660.83  & 294.30  & 248.37 \\\\\n",
       "\t May-99  & 5301    & 11.3    & 224515  & 1341.70 & 716.13  & 349.05  & 276.52 \\\\\n",
       "\t Jun-99  & 5777    & 14.5    & 248046  & 1422.09 & 738.74  & 369.82  & 313.52 \\\\\n",
       "\t ... & ... & ... & ... & ... & ... & ... & ...\\\\\n",
       "\t 08-Jul  & 7788    & 17.8    & 302279  & 1798.42 & 902.69  & 465.21  & 430.52 \\\\\n",
       "\t 08-Aug  & 8120    & 17.8    & 302279  & 1892.90 & 971.06  & 484.17  & 437.67 \\\\\n",
       "\t 08-Sep  & 7628    & 14.6    & 302279  & 1440.72 & 768.00  & 321.68  & 351.04 \\\\\n",
       "\t 08-Oct  & 7099    & 10.0    & 302279  & 1327.44 & 757.37  & 279.68  & 290.40 \\\\\n",
       "\t 08-Nov  & 7385    &  8.1    & 302279  & 1173.36 & 646.74  & 266.58  & 260.04 \\\\\n",
       "\t 08-Dec  & 7481    &  0.9    & 302279  & 1322.42 & 697.35  & 312.30  & 312.77 \\\\\n",
       "\t 09-Jan  & 7852    &  2.1    & 302279  & 1284.29 & 636.95  & 311.61  & 335.73 \\\\\n",
       "\t 09-Feb  & 7773    &  4.0    & 303079  & 1207.57 & 631.33  & 299.73  & 276.52 \\\\\n",
       "\t 09-Mar  & 6859    &  4.9    & 303079  & 1355.32 & 693.37  & 345.08  & 316.87 \\\\\n",
       "\t 09-Apr  & 7410    &  9.1    & 303079  & 1286.71 & 684.15  & 308.12  & 294.44 \\\\\n",
       "\t 09-May  & 6918    & 12.7    & 303079  & 1319.13 & 728.76  & 311.54  & 278.82 \\\\\n",
       "\t 09-Jun  & 7759    & 17.4    & 303079  & 1380.84 & 749.46  & 334.37  & 297.02 \\\\\n",
       "\t 09-Jul  & 7718    & 19.6    & 311585  & 1592.11 & 836.96  & 399.14  & 356.01 \\\\\n",
       "\t 09-Aug  & 8630    & 18.0    & 319585  & 1710.56 & 917.86  & 416.51  & 376.18 \\\\\n",
       "\t 09-Sep  & 8121    & 15.7    & 319585  & 1376.56 & 747.05  & 305.31  & 324.21 \\\\\n",
       "\t 09-Oct  & 7423    & 10.0    & 319585  & 1240.26 & 719.00  & 257.39  & 263.87 \\\\\n",
       "\t 09-Nov  & 7809    &  7.1    & 319585  & 1112.12 & 620.28  & 248.28  & 243.56 \\\\\n",
       "\t 09-Dec  & 7841    &  2.1    & 319585  & 1313.85 & 712.19  & 311.52  & 290.14 \\\\\n",
       "\t 10-Jan  & 8171    &  7.2    & 319585  & 1260.26 & 649.74  & 307.88  & 302.64 \\\\\n",
       "\t 10-Feb  & 8101    &  7.1    & 319585  & 1248.45 & 641.93  & 326.96  & 279.56 \\\\\n",
       "\t 10-Mar  & 7306    &  7.7    & 319585  & 1395.60 & 718.58  & 362.98  & 314.04 \\\\\n",
       "\t 10-Apr  & 7877    &  9.6    & 319585  & 1315.79 & 700.04  & 330.79  & 284.96 \\\\\n",
       "\t 10-May  & 7575    & 12.0    & 319585  & 1415.24 & 756.88  & 339.98  & 318.38 \\\\\n",
       "\t 10-Jun  & 7740    & 15.0    & 319585  & 1494.30 & 781.15  & 360.54  & 352.62 \\\\\n",
       "\t 10-Jul  & 8149    & 18.1    & 319585  & 1667.07 & 844.64  & 424.63  & 397.79 \\\\\n",
       "\t 10-Aug  & 8813    & 18.2    & 319585  & 1704.74 & 886.16  & 421.92  & 396.66 \\\\\n",
       "\t 10-Sep  & 8154    & 15.3    & 319585  & 1417.72 & 740.51  & 325.56  & 351.65 \\\\\n",
       "\t 10-Oct  & 7635    & 11.3    & 319585  & 1331.31 & 721.73  & 308.32  & 301.25 \\\\\n",
       "\t 10-Nov  & 7932    &  5.1    & 319585  & 1176.74 & 623.44  & 293.05  & 260.25 \\\\\n",
       "\t 10-Dec  & 7975    &  4.9    & 319585  & 1352.50 & 716.61  & 331.34  & 304.56 \\\\\n",
       "\\end{tabular}\n"
      ],
      "text/markdown": [
       "\n",
       "| month | energy | mean.temp | total.area | total.passengers | domestic.passengers | US.passengers | international.passengers |\n",
       "|---|---|---|---|---|---|---|---|\n",
       "| Jan-97  | 5958    |  3.9    | 202966  | 1068.36 | 573.84  | 263.13  | 231.38  |\n",
       "| Feb-97  | 5859    |  5.0    | 202966  | 1040.30 | 570.36  | 267.39  | 202.56  |\n",
       "| Mar-97  | 5230    |  6.3    | 202966  | 1195.47 | 632.68  | 319.09  | 243.71  |\n",
       "| Apr-97  | 5654    |  9.1    | 202966  | 1086.42 | 599.11  | 265.37  | 221.94  |\n",
       "| May-97  | 5618    | 14.0    | 202966  | 1244.52 | 673.70  | 307.55  | 263.27  |\n",
       "| Jun-97  | 5963    | 15.6    | 202966  | 1352.89 | 729.84  | 333.89  | 289.16  |\n",
       "| Jul-97  | 5920    | 17.7    | 202966  | 1517.17 | 807.90  | 388.91  | 320.36  |\n",
       "| Aug-97  | 6430    | 19.0    | 202966  | 1668.83 | 869.27  | 428.65  | 370.91  |\n",
       "| Sep-97  | 6053    | 15.9    | 202966  | 1348.09 | 714.28  | 330.92  | 302.89  |\n",
       "| Oct-97  | 5514    | 10.4    | 202966  | 1195.02 | 662.97  | 286.39  | 245.66  |\n",
       "| Nov-97  | 5633    |  7.4    | 202966  |  964.90 | 523.70  | 251.00  | 190.20  |\n",
       "| Dec-97  | 5545    |  4.8    | 202966  | 1136.60 | 616.81  | 291.19  | 228.60  |\n",
       "| Jan-98  | 5825    |  4.5    | 202966  | 1116.81 | 558.84  | 305.16  | 252.82  |\n",
       "| Feb-98  | 5617    |  7.1    | 202966  | 1022.71 | 536.99  | 278.95  | 206.77  |\n",
       "| Mar-98  | 4970    |  7.9    | 202966  | 1207.28 | 625.68  | 337.42  | 244.18  |\n",
       "| Apr-98  | 5331    |  9.6    | 202966  | 1134.33 | 609.17  | 293.56  | 231.59  |\n",
       "| May-98  | 5233    | 13.4    | 202966  | 1309.21 | 696.82  | 352.11  | 260.28  |\n",
       "| Jun-98  | 5557    | 16.5    | 202966  | 1419.28 | 744.52  | 375.07  | 299.69  |\n",
       "| Jul-98  | 5841    | 19.3    | 202966  | 1597.61 | 828.03  | 434.96  | 334.62  |\n",
       "| Aug-98  | 6489    | 19.1    | 202966  | 1736.54 | 887.10  | 478.04  | 371.41  |\n",
       "| Sep-98  | 6138    | 16.1    | 202966  | 1385.78 | 715.39  | 371.92  | 298.47  |\n",
       "| Oct-98  | 5539    | 10.8    | 202966  | 1321.31 | 757.49  | 309.21  | 254.62  |\n",
       "| Nov-98  | 5667    |  7.9    | 202966  | 1046.53 | 581.06  | 276.43  | 189.04  |\n",
       "| Dec-98  | 5730    |  3.7    | 202966  | 1210.72 | 674.27  | 309.70  | 226.76  |\n",
       "| Jan-99  | 6030    |  5.0    | 224515  | 1151.30 | 591.32  | 315.47  | 244.51  |\n",
       "| Feb-99  | 5954    |  5.5    | 224515  | 1108.20 | 588.72  | 296.50  | 222.98  |\n",
       "| Mar-99  | 5326    |  6.4    | 224515  | 1302.49 | 676.13  | 365.36  | 261.01  |\n",
       "| Apr-99  | 5672    |  8.7    | 224515  | 1203.50 | 660.83  | 294.30  | 248.37  |\n",
       "| May-99  | 5301    | 11.3    | 224515  | 1341.70 | 716.13  | 349.05  | 276.52  |\n",
       "| Jun-99  | 5777    | 14.5    | 248046  | 1422.09 | 738.74  | 369.82  | 313.52  |\n",
       "| ... | ... | ... | ... | ... | ... | ... | ... |\n",
       "| 08-Jul  | 7788    | 17.8    | 302279  | 1798.42 | 902.69  | 465.21  | 430.52  |\n",
       "| 08-Aug  | 8120    | 17.8    | 302279  | 1892.90 | 971.06  | 484.17  | 437.67  |\n",
       "| 08-Sep  | 7628    | 14.6    | 302279  | 1440.72 | 768.00  | 321.68  | 351.04  |\n",
       "| 08-Oct  | 7099    | 10.0    | 302279  | 1327.44 | 757.37  | 279.68  | 290.40  |\n",
       "| 08-Nov  | 7385    |  8.1    | 302279  | 1173.36 | 646.74  | 266.58  | 260.04  |\n",
       "| 08-Dec  | 7481    |  0.9    | 302279  | 1322.42 | 697.35  | 312.30  | 312.77  |\n",
       "| 09-Jan  | 7852    |  2.1    | 302279  | 1284.29 | 636.95  | 311.61  | 335.73  |\n",
       "| 09-Feb  | 7773    |  4.0    | 303079  | 1207.57 | 631.33  | 299.73  | 276.52  |\n",
       "| 09-Mar  | 6859    |  4.9    | 303079  | 1355.32 | 693.37  | 345.08  | 316.87  |\n",
       "| 09-Apr  | 7410    |  9.1    | 303079  | 1286.71 | 684.15  | 308.12  | 294.44  |\n",
       "| 09-May  | 6918    | 12.7    | 303079  | 1319.13 | 728.76  | 311.54  | 278.82  |\n",
       "| 09-Jun  | 7759    | 17.4    | 303079  | 1380.84 | 749.46  | 334.37  | 297.02  |\n",
       "| 09-Jul  | 7718    | 19.6    | 311585  | 1592.11 | 836.96  | 399.14  | 356.01  |\n",
       "| 09-Aug  | 8630    | 18.0    | 319585  | 1710.56 | 917.86  | 416.51  | 376.18  |\n",
       "| 09-Sep  | 8121    | 15.7    | 319585  | 1376.56 | 747.05  | 305.31  | 324.21  |\n",
       "| 09-Oct  | 7423    | 10.0    | 319585  | 1240.26 | 719.00  | 257.39  | 263.87  |\n",
       "| 09-Nov  | 7809    |  7.1    | 319585  | 1112.12 | 620.28  | 248.28  | 243.56  |\n",
       "| 09-Dec  | 7841    |  2.1    | 319585  | 1313.85 | 712.19  | 311.52  | 290.14  |\n",
       "| 10-Jan  | 8171    |  7.2    | 319585  | 1260.26 | 649.74  | 307.88  | 302.64  |\n",
       "| 10-Feb  | 8101    |  7.1    | 319585  | 1248.45 | 641.93  | 326.96  | 279.56  |\n",
       "| 10-Mar  | 7306    |  7.7    | 319585  | 1395.60 | 718.58  | 362.98  | 314.04  |\n",
       "| 10-Apr  | 7877    |  9.6    | 319585  | 1315.79 | 700.04  | 330.79  | 284.96  |\n",
       "| 10-May  | 7575    | 12.0    | 319585  | 1415.24 | 756.88  | 339.98  | 318.38  |\n",
       "| 10-Jun  | 7740    | 15.0    | 319585  | 1494.30 | 781.15  | 360.54  | 352.62  |\n",
       "| 10-Jul  | 8149    | 18.1    | 319585  | 1667.07 | 844.64  | 424.63  | 397.79  |\n",
       "| 10-Aug  | 8813    | 18.2    | 319585  | 1704.74 | 886.16  | 421.92  | 396.66  |\n",
       "| 10-Sep  | 8154    | 15.3    | 319585  | 1417.72 | 740.51  | 325.56  | 351.65  |\n",
       "| 10-Oct  | 7635    | 11.3    | 319585  | 1331.31 | 721.73  | 308.32  | 301.25  |\n",
       "| 10-Nov  | 7932    |  5.1    | 319585  | 1176.74 | 623.44  | 293.05  | 260.25  |\n",
       "| 10-Dec  | 7975    |  4.9    | 319585  | 1352.50 | 716.61  | 331.34  | 304.56  |\n",
       "\n"
      ],
      "text/plain": [
       "    month  energy mean.temp total.area total.passengers domestic.passengers\n",
       "1   Jan-97 5958    3.9      202966     1068.36          573.84             \n",
       "2   Feb-97 5859    5.0      202966     1040.30          570.36             \n",
       "3   Mar-97 5230    6.3      202966     1195.47          632.68             \n",
       "4   Apr-97 5654    9.1      202966     1086.42          599.11             \n",
       "5   May-97 5618   14.0      202966     1244.52          673.70             \n",
       "6   Jun-97 5963   15.6      202966     1352.89          729.84             \n",
       "7   Jul-97 5920   17.7      202966     1517.17          807.90             \n",
       "8   Aug-97 6430   19.0      202966     1668.83          869.27             \n",
       "9   Sep-97 6053   15.9      202966     1348.09          714.28             \n",
       "10  Oct-97 5514   10.4      202966     1195.02          662.97             \n",
       "11  Nov-97 5633    7.4      202966      964.90          523.70             \n",
       "12  Dec-97 5545    4.8      202966     1136.60          616.81             \n",
       "13  Jan-98 5825    4.5      202966     1116.81          558.84             \n",
       "14  Feb-98 5617    7.1      202966     1022.71          536.99             \n",
       "15  Mar-98 4970    7.9      202966     1207.28          625.68             \n",
       "16  Apr-98 5331    9.6      202966     1134.33          609.17             \n",
       "17  May-98 5233   13.4      202966     1309.21          696.82             \n",
       "18  Jun-98 5557   16.5      202966     1419.28          744.52             \n",
       "19  Jul-98 5841   19.3      202966     1597.61          828.03             \n",
       "20  Aug-98 6489   19.1      202966     1736.54          887.10             \n",
       "21  Sep-98 6138   16.1      202966     1385.78          715.39             \n",
       "22  Oct-98 5539   10.8      202966     1321.31          757.49             \n",
       "23  Nov-98 5667    7.9      202966     1046.53          581.06             \n",
       "24  Dec-98 5730    3.7      202966     1210.72          674.27             \n",
       "25  Jan-99 6030    5.0      224515     1151.30          591.32             \n",
       "26  Feb-99 5954    5.5      224515     1108.20          588.72             \n",
       "27  Mar-99 5326    6.4      224515     1302.49          676.13             \n",
       "28  Apr-99 5672    8.7      224515     1203.50          660.83             \n",
       "29  May-99 5301   11.3      224515     1341.70          716.13             \n",
       "30  Jun-99 5777   14.5      248046     1422.09          738.74             \n",
       "... ...    ...    ...       ...        ...              ...                \n",
       "139 08-Jul 7788   17.8      302279     1798.42          902.69             \n",
       "140 08-Aug 8120   17.8      302279     1892.90          971.06             \n",
       "141 08-Sep 7628   14.6      302279     1440.72          768.00             \n",
       "142 08-Oct 7099   10.0      302279     1327.44          757.37             \n",
       "143 08-Nov 7385    8.1      302279     1173.36          646.74             \n",
       "144 08-Dec 7481    0.9      302279     1322.42          697.35             \n",
       "145 09-Jan 7852    2.1      302279     1284.29          636.95             \n",
       "146 09-Feb 7773    4.0      303079     1207.57          631.33             \n",
       "147 09-Mar 6859    4.9      303079     1355.32          693.37             \n",
       "148 09-Apr 7410    9.1      303079     1286.71          684.15             \n",
       "149 09-May 6918   12.7      303079     1319.13          728.76             \n",
       "150 09-Jun 7759   17.4      303079     1380.84          749.46             \n",
       "151 09-Jul 7718   19.6      311585     1592.11          836.96             \n",
       "152 09-Aug 8630   18.0      319585     1710.56          917.86             \n",
       "153 09-Sep 8121   15.7      319585     1376.56          747.05             \n",
       "154 09-Oct 7423   10.0      319585     1240.26          719.00             \n",
       "155 09-Nov 7809    7.1      319585     1112.12          620.28             \n",
       "156 09-Dec 7841    2.1      319585     1313.85          712.19             \n",
       "157 10-Jan 8171    7.2      319585     1260.26          649.74             \n",
       "158 10-Feb 8101    7.1      319585     1248.45          641.93             \n",
       "159 10-Mar 7306    7.7      319585     1395.60          718.58             \n",
       "160 10-Apr 7877    9.6      319585     1315.79          700.04             \n",
       "161 10-May 7575   12.0      319585     1415.24          756.88             \n",
       "162 10-Jun 7740   15.0      319585     1494.30          781.15             \n",
       "163 10-Jul 8149   18.1      319585     1667.07          844.64             \n",
       "164 10-Aug 8813   18.2      319585     1704.74          886.16             \n",
       "165 10-Sep 8154   15.3      319585     1417.72          740.51             \n",
       "166 10-Oct 7635   11.3      319585     1331.31          721.73             \n",
       "167 10-Nov 7932    5.1      319585     1176.74          623.44             \n",
       "168 10-Dec 7975    4.9      319585     1352.50          716.61             \n",
       "    US.passengers international.passengers\n",
       "1   263.13        231.38                  \n",
       "2   267.39        202.56                  \n",
       "3   319.09        243.71                  \n",
       "4   265.37        221.94                  \n",
       "5   307.55        263.27                  \n",
       "6   333.89        289.16                  \n",
       "7   388.91        320.36                  \n",
       "8   428.65        370.91                  \n",
       "9   330.92        302.89                  \n",
       "10  286.39        245.66                  \n",
       "11  251.00        190.20                  \n",
       "12  291.19        228.60                  \n",
       "13  305.16        252.82                  \n",
       "14  278.95        206.77                  \n",
       "15  337.42        244.18                  \n",
       "16  293.56        231.59                  \n",
       "17  352.11        260.28                  \n",
       "18  375.07        299.69                  \n",
       "19  434.96        334.62                  \n",
       "20  478.04        371.41                  \n",
       "21  371.92        298.47                  \n",
       "22  309.21        254.62                  \n",
       "23  276.43        189.04                  \n",
       "24  309.70        226.76                  \n",
       "25  315.47        244.51                  \n",
       "26  296.50        222.98                  \n",
       "27  365.36        261.01                  \n",
       "28  294.30        248.37                  \n",
       "29  349.05        276.52                  \n",
       "30  369.82        313.52                  \n",
       "... ...           ...                     \n",
       "139 465.21        430.52                  \n",
       "140 484.17        437.67                  \n",
       "141 321.68        351.04                  \n",
       "142 279.68        290.40                  \n",
       "143 266.58        260.04                  \n",
       "144 312.30        312.77                  \n",
       "145 311.61        335.73                  \n",
       "146 299.73        276.52                  \n",
       "147 345.08        316.87                  \n",
       "148 308.12        294.44                  \n",
       "149 311.54        278.82                  \n",
       "150 334.37        297.02                  \n",
       "151 399.14        356.01                  \n",
       "152 416.51        376.18                  \n",
       "153 305.31        324.21                  \n",
       "154 257.39        263.87                  \n",
       "155 248.28        243.56                  \n",
       "156 311.52        290.14                  \n",
       "157 307.88        302.64                  \n",
       "158 326.96        279.56                  \n",
       "159 362.98        314.04                  \n",
       "160 330.79        284.96                  \n",
       "161 339.98        318.38                  \n",
       "162 360.54        352.62                  \n",
       "163 424.63        397.79                  \n",
       "164 421.92        396.66                  \n",
       "165 325.56        351.65                  \n",
       "166 308.32        301.25                  \n",
       "167 293.05        260.25                  \n",
       "168 331.34        304.56                  "
      ]
     },
     "metadata": {},
     "output_type": "display_data"
    }
   ],
   "source": [
    "library(fpp2)\n",
    "library(seasonal)\n",
    "\n",
    "energy<-read.csv(\"Energy use at YVR.csv\")\n",
    "energy"
   ]
  },
  {
   "cell_type": "markdown",
   "metadata": {},
   "source": [
    "\n",
    "### Time plot"
   ]
  },
  {
   "cell_type": "code",
   "execution_count": 23,
   "metadata": {},
   "outputs": [
    {
     "name": "stderr",
     "output_type": "stream",
     "text": [
      "ERROR while rich displaying an object: Error in repr_matrix_generic(obj, \"\\n%s%s\\n\", sprintf(\"|%%s\\n|%s|\\n\", : formal argument \"cols\" matched by multiple actual arguments\n",
      "\n",
      "Traceback:\n",
      "1. FUN(X[[i]], ...)\n",
      "2. tryCatch(withCallingHandlers({\n",
      " .     if (!mime %in% names(repr::mime2repr)) \n",
      " .         stop(\"No repr_* for mimetype \", mime, \" in repr::mime2repr\")\n",
      " .     rpr <- repr::mime2repr[[mime]](obj)\n",
      " .     if (is.null(rpr)) \n",
      " .         return(NULL)\n",
      " .     prepare_content(is.raw(rpr), rpr)\n",
      " . }, error = error_handler), error = outer_handler)\n",
      "3. tryCatchList(expr, classes, parentenv, handlers)\n",
      "4. tryCatchOne(expr, names, parentenv, handlers[[1L]])\n",
      "5. doTryCatch(return(expr), name, parentenv, handler)\n",
      "6. withCallingHandlers({\n",
      " .     if (!mime %in% names(repr::mime2repr)) \n",
      " .         stop(\"No repr_* for mimetype \", mime, \" in repr::mime2repr\")\n",
      " .     rpr <- repr::mime2repr[[mime]](obj)\n",
      " .     if (is.null(rpr)) \n",
      " .         return(NULL)\n",
      " .     prepare_content(is.raw(rpr), rpr)\n",
      " . }, error = error_handler)\n",
      "7. repr::mime2repr[[mime]](obj)\n",
      "8. repr_markdown.ts(obj)\n",
      "9. repr_ts_generic(obj, repr_markdown.matrix, ...)\n",
      "10. repr_func(m, ..., rows = nrow(m), cols = ncol(m))\n"
     ]
    },
    {
     "data": {
      "text/html": [
       "<table>\n",
       "<thead><tr><th></th><th scope=col>Jan</th><th scope=col>Feb</th><th scope=col>Mar</th><th scope=col>Apr</th><th scope=col>May</th><th scope=col>Jun</th><th scope=col>Jul</th><th scope=col>Aug</th><th scope=col>Sep</th><th scope=col>Oct</th><th scope=col>Nov</th><th scope=col>Dec</th></tr></thead>\n",
       "<tbody>\n",
       "\t<tr><th scope=row>1997</th><td>5958</td><td>5859</td><td>5230</td><td>5654</td><td>5618</td><td>5963</td><td>5920</td><td>6430</td><td>6053</td><td>5514</td><td>5633</td><td>5545</td></tr>\n",
       "\t<tr><th scope=row>1998</th><td>5825</td><td>5617</td><td>4970</td><td>5331</td><td>5233</td><td>5557</td><td>5841</td><td>6489</td><td>6138</td><td>5539</td><td>5667</td><td>5730</td></tr>\n",
       "\t<tr><th scope=row>1999</th><td>6030</td><td>5954</td><td>5326</td><td>5672</td><td>5301</td><td>5777</td><td>5831</td><td>6345</td><td>6309</td><td>6068</td><td>6372</td><td>6302</td></tr>\n",
       "\t<tr><th scope=row>2000</th><td>6570</td><td>6497</td><td>6106</td><td>6330</td><td>6070</td><td>6401</td><td>6697</td><td>7003</td><td>6760</td><td>6192</td><td>6334</td><td>6371</td></tr>\n",
       "\t<tr><th scope=row>2001</th><td>6501</td><td>6435</td><td>5674</td><td>6206</td><td>6094</td><td>6544</td><td>6602</td><td>6886</td><td>6677</td><td>6133</td><td>6088</td><td>6291</td></tr>\n",
       "\t<tr><th scope=row>2002</th><td>6349</td><td>6286</td><td>5588</td><td>5914</td><td>5716</td><td>6235</td><td>6483</td><td>6708</td><td>6553</td><td>5837</td><td>5961</td><td>5828</td></tr>\n",
       "\t<tr><th scope=row>2003</th><td>6126</td><td>6020</td><td>5375</td><td>5741</td><td>5635</td><td>6199</td><td>6376</td><td>6844</td><td>6379</td><td>5822</td><td>5884</td><td>5820</td></tr>\n",
       "\t<tr><th scope=row>2004</th><td>6105</td><td>6014</td><td>5552</td><td>5908</td><td>5956</td><td>6399</td><td>6572</td><td>7043</td><td>6418</td><td>5741</td><td>6497</td><td>6207</td></tr>\n",
       "\t<tr><th scope=row>2005</th><td>6504</td><td>6337</td><td>5644</td><td>6148</td><td>6141</td><td>6521</td><td>6661</td><td>7387</td><td>6815</td><td>6173</td><td>6319</td><td>6434</td></tr>\n",
       "\t<tr><th scope=row>2006</th><td>6544</td><td>6534</td><td>5809</td><td>6290</td><td>6202</td><td>6492</td><td>6733</td><td>7040</td><td>6690</td><td>6220</td><td>6497</td><td>6582</td></tr>\n",
       "\t<tr><th scope=row>2007</th><td>6802</td><td>6947</td><td>6443</td><td>6835</td><td>6619</td><td>7096</td><td>7291</td><td>7642</td><td>7443</td><td>6921</td><td>7338</td><td>7358</td></tr>\n",
       "\t<tr><th scope=row>2008</th><td>7540</td><td>7543</td><td>6923</td><td>7351</td><td>7084</td><td>7288</td><td>7788</td><td>8120</td><td>7628</td><td>7099</td><td>7385</td><td>7481</td></tr>\n",
       "\t<tr><th scope=row>2009</th><td>7852</td><td>7773</td><td>6859</td><td>7410</td><td>6918</td><td>7759</td><td>7718</td><td>8630</td><td>8121</td><td>7423</td><td>7809</td><td>7841</td></tr>\n",
       "\t<tr><th scope=row>2010</th><td>8171</td><td>8101</td><td>7306</td><td>7877</td><td>7575</td><td>7740</td><td>8149</td><td>8813</td><td>8154</td><td>7635</td><td>7932</td><td>7975</td></tr>\n",
       "</tbody>\n",
       "</table>\n"
      ],
      "text/latex": [
       "\\begin{tabular}{r|llllllllllll}\n",
       "  & Jan & Feb & Mar & Apr & May & Jun & Jul & Aug & Sep & Oct & Nov & Dec\\\\\n",
       "\\hline\n",
       "\t1997 & 5958 & 5859 & 5230 & 5654 & 5618 & 5963 & 5920 & 6430 & 6053 & 5514 & 5633 & 5545\\\\\n",
       "\t1998 & 5825 & 5617 & 4970 & 5331 & 5233 & 5557 & 5841 & 6489 & 6138 & 5539 & 5667 & 5730\\\\\n",
       "\t1999 & 6030 & 5954 & 5326 & 5672 & 5301 & 5777 & 5831 & 6345 & 6309 & 6068 & 6372 & 6302\\\\\n",
       "\t2000 & 6570 & 6497 & 6106 & 6330 & 6070 & 6401 & 6697 & 7003 & 6760 & 6192 & 6334 & 6371\\\\\n",
       "\t2001 & 6501 & 6435 & 5674 & 6206 & 6094 & 6544 & 6602 & 6886 & 6677 & 6133 & 6088 & 6291\\\\\n",
       "\t2002 & 6349 & 6286 & 5588 & 5914 & 5716 & 6235 & 6483 & 6708 & 6553 & 5837 & 5961 & 5828\\\\\n",
       "\t2003 & 6126 & 6020 & 5375 & 5741 & 5635 & 6199 & 6376 & 6844 & 6379 & 5822 & 5884 & 5820\\\\\n",
       "\t2004 & 6105 & 6014 & 5552 & 5908 & 5956 & 6399 & 6572 & 7043 & 6418 & 5741 & 6497 & 6207\\\\\n",
       "\t2005 & 6504 & 6337 & 5644 & 6148 & 6141 & 6521 & 6661 & 7387 & 6815 & 6173 & 6319 & 6434\\\\\n",
       "\t2006 & 6544 & 6534 & 5809 & 6290 & 6202 & 6492 & 6733 & 7040 & 6690 & 6220 & 6497 & 6582\\\\\n",
       "\t2007 & 6802 & 6947 & 6443 & 6835 & 6619 & 7096 & 7291 & 7642 & 7443 & 6921 & 7338 & 7358\\\\\n",
       "\t2008 & 7540 & 7543 & 6923 & 7351 & 7084 & 7288 & 7788 & 8120 & 7628 & 7099 & 7385 & 7481\\\\\n",
       "\t2009 & 7852 & 7773 & 6859 & 7410 & 6918 & 7759 & 7718 & 8630 & 8121 & 7423 & 7809 & 7841\\\\\n",
       "\t2010 & 8171 & 8101 & 7306 & 7877 & 7575 & 7740 & 8149 & 8813 & 8154 & 7635 & 7932 & 7975\\\\\n",
       "\\end{tabular}\n"
      ],
      "text/plain": [
       "     Jan  Feb  Mar  Apr  May  Jun  Jul  Aug  Sep  Oct  Nov  Dec \n",
       "1997 5958 5859 5230 5654 5618 5963 5920 6430 6053 5514 5633 5545\n",
       "1998 5825 5617 4970 5331 5233 5557 5841 6489 6138 5539 5667 5730\n",
       "1999 6030 5954 5326 5672 5301 5777 5831 6345 6309 6068 6372 6302\n",
       "2000 6570 6497 6106 6330 6070 6401 6697 7003 6760 6192 6334 6371\n",
       "2001 6501 6435 5674 6206 6094 6544 6602 6886 6677 6133 6088 6291\n",
       "2002 6349 6286 5588 5914 5716 6235 6483 6708 6553 5837 5961 5828\n",
       "2003 6126 6020 5375 5741 5635 6199 6376 6844 6379 5822 5884 5820\n",
       "2004 6105 6014 5552 5908 5956 6399 6572 7043 6418 5741 6497 6207\n",
       "2005 6504 6337 5644 6148 6141 6521 6661 7387 6815 6173 6319 6434\n",
       "2006 6544 6534 5809 6290 6202 6492 6733 7040 6690 6220 6497 6582\n",
       "2007 6802 6947 6443 6835 6619 7096 7291 7642 7443 6921 7338 7358\n",
       "2008 7540 7543 6923 7351 7084 7288 7788 8120 7628 7099 7385 7481\n",
       "2009 7852 7773 6859 7410 6918 7759 7718 8630 8121 7423 7809 7841\n",
       "2010 8171 8101 7306 7877 7575 7740 8149 8813 8154 7635 7932 7975"
      ]
     },
     "metadata": {},
     "output_type": "display_data"
    }
   ],
   "source": [
    "energy_use_ts <- ts(energy[,2], start = c(1997,1), frequency = 12)\n",
    "energy_use_ts"
   ]
  },
  {
   "cell_type": "code",
   "execution_count": 21,
   "metadata": {},
   "outputs": [
    {
     "ename": "ERROR",
     "evalue": "Error in autoplot(energy_use_ts, main = \"YVR Monthly Energy Consumption (1997-2010)\", : could not find function \"autoplot\"\n",
     "output_type": "error",
     "traceback": [
      "Error in autoplot(energy_use_ts, main = \"YVR Monthly Energy Consumption (1997-2010)\", : could not find function \"autoplot\"\nTraceback:\n"
     ]
    }
   ],
   "source": [
    "autoplot(energy_use_ts, main = \"YVR Monthly Energy Consumption (1997-2010)\", xlab = \"Year\",ylab= \"Energy Consumption (kWh)\")"
   ]
  },
  {
   "cell_type": "markdown",
   "metadata": {},
   "source": [
    "\n",
    "### Box-Cox transformation"
   ]
  },
  {
   "cell_type": "code",
   "execution_count": 20,
   "metadata": {},
   "outputs": [
    {
     "ename": "ERROR",
     "evalue": "Error in BoxCox.lambda(energy_use_ts): could not find function \"BoxCox.lambda\"\n",
     "output_type": "error",
     "traceback": [
      "Error in BoxCox.lambda(energy_use_ts): could not find function \"BoxCox.lambda\"\nTraceback:\n"
     ]
    }
   ],
   "source": [
    "lambda<- BoxCox.lambda(energy_use_ts)\n",
    "autoplot(BoxCox(energy_use_ts,lambda), main = \"YVR Monthly Energy Consumption (1997-2010)\", xlab = \"Year\",ylab= \"Energy Consumption (kWh)\")\n"
   ]
  },
  {
   "cell_type": "markdown",
   "metadata": {},
   "source": [
    "\n",
    "### Calendar adjustment for number of days in each month"
   ]
  },
  {
   "cell_type": "code",
   "execution_count": null,
   "metadata": {},
   "outputs": [],
   "source": [
    "autoplot(energy_use_ts/monthdays(energy_use_ts), main = \"Average YVR Monthly Energy Consumption (1997-2010) - Calendar Adjustment\", xlab = \"Year\",ylab= \"Energy Consumption (kWh)\")\n",
    "    "
   ]
  },
  {
   "cell_type": "markdown",
   "metadata": {},
   "source": [
    "### Divide the data into the training set and the test set"
   ]
  },
  {
   "cell_type": "code",
   "execution_count": null,
   "metadata": {},
   "outputs": [],
   "source": [
    "train<- window(energy_use_ts,end = c(2007,12)); train\n",
    "test<- window(energy_use_ts,start = c(2008,1)); test\n"
   ]
  },
  {
   "cell_type": "markdown",
   "metadata": {},
   "source": [
    "----"
   ]
  },
  {
   "cell_type": "markdown",
   "metadata": {},
   "source": [
    "<div class=\"alert alert-block alert-info\">   \n",
    "\n",
    "# Part B\n",
    "### Note that Part B includes everything below this header\n",
    "<a id=\"PartB\"></a>  \n",
    "\n",
    "</div>"
   ]
  },
  {
   "cell_type": "markdown",
   "metadata": {},
   "source": [
    "<div class=\"alert alert-block alert-danger\">\n",
    "    \n",
    "### Make sure that your code is organized and includes useful annotations and written descriptions of what you are seeing on plots or the conclusions that you are drawing. (0.5 marks)\n",
    "  \n",
    "### Prepare all plots for publication by including detailed axis labels.\n",
    "    \n",
    "### Complete anwers will include observations and conclusions/interpretations.\n",
    "<div>"
   ]
  },
  {
   "cell_type": "markdown",
   "metadata": {},
   "source": [
    "<div class=\"alert alert-block alert-success\">\n",
    "<a id=\"Introduction\"></a>  \n",
    "\n",
    "# Introduction & Approach (250 words max.) (2 marks)\n",
    "Write an introduction to the project and explain the overall approach.  \n",
    "\n",
    "What to include: objective and purpose of the analysis, background information, brief description of the approach that is being taken in the analysis. If you include any references, please put the bibliographical information at the end of your introduction; this does not contribute to the word count. **Make sure to write in your own words.**  \n",
    "\n",
    "</div>"
   ]
  },
  {
   "cell_type": "markdown",
   "metadata": {},
   "source": [
    "YVR airport has asked us to create a model to forecast the energy consumption by the airport. They have provided us with a number of different datapoints such as temperature,area etc. For this project, we are going to mainly focus on the energy consumption (thousands of KWh) and time. Accurate forecast prediction will help YVR representatives negotiate more favourable contracts with the energy suppliers. \n",
    "We will follow the below steps:\n",
    "\n",
    "- Exploratory Data Analysis - Understanding seasonality, trend/cycle and unusual values\n",
    "- Basic Forecasting model analysis - Naive, Drift, Seasonal Naive and mean\n",
    "- Process of developing an ETS (exponential smoothing model)\n",
    "- Process of developing an ARIMA (autoregressive integrative model)\n",
    "- Model Comparison\n",
    "- Energy Consumption forecast for the next 3 years\n"
   ]
  },
  {
   "cell_type": "markdown",
   "metadata": {},
   "source": []
  },
  {
   "cell_type": "markdown",
   "metadata": {},
   "source": [
    "----"
   ]
  },
  {
   "cell_type": "markdown",
   "metadata": {},
   "source": [
    "<div class=\"alert alert-block alert-warning\">\n",
    "<a id=\"EDA1\"></a>\n",
    "\n",
    "# Exploratory Data Analysis (300 words max.) (4 marks)  \n",
    "\n",
    "Create plots of the electricity use data (**use all the data, not just the training set**); prepare them as if for publication and upload them. Include a decomposition plot from STL decomposition.  \n",
    "\n",
    "Describe the characteristics of trend, cycle and seasonality in detail, referring to specific characteristics of the plots. Also mention any unusual features, if present. Be specific.  \n",
    "\n",
    "<br>\n",
    "\n",
    "Organize your answers as follows:  \n",
    "\n",
    "Seasonality: ...  \n",
    "    \n",
    "Trend/cycle: ...  \n",
    "\n",
    "Unusual features: ...  \n",
    "</div>"
   ]
  },
  {
   "cell_type": "code",
   "execution_count": null,
   "metadata": {},
   "outputs": [],
   "source": [
    "#time plot for the whole data\n",
    "par(mfrow=c(2,2))\n",
    "\n",
    "plot(YVR_energy\n",
    "    ,main = \"YVR Monthly Energy Consumption (1997-2010)\"\n",
    "    ,xlab=\"Year\"\n",
    "    ,ylab=\"Energy Consumption (thousands kWh)\")\n",
    "\n",
    "ggseasonplot(energy_use_ts,year.labels = TRUE, year.labels.left = TRUE) +\n",
    "  ggtitle(\"YVR Monthly Energy Consumption - Yearly Trends (1997-2010)\") +\n",
    "  ylab(\"Monthly Energy Consumption (in thousands kWh)\")\n",
    "\n",
    "ggseasonplot(energy_use_ts,polar = TRUE) +\n",
    "  ggtitle(\"YVR Monthly Energy Consumption - Yearly Trends (1997-2010)\") +\n",
    "  ylab(\"Monthly Energy Consumption (in thousands kWh)\")\n",
    "\n",
    "ggsubseriesplot(energy_use_ts,polar = TRUE) +\n",
    "  ggtitle(\"YVR Monthly Energy Consumption - Yearly Trends (1997-2010)\") +\n",
    "  ylab(\"Monthly Energy Consumption (in thousands kWh)\")"
   ]
  },
  {
   "cell_type": "code",
   "execution_count": null,
   "metadata": {},
   "outputs": [],
   "source": [
    "#stl decomposition \n",
    "fit_stl<- stl(energy_use_ts,t.window=25,s.window = \"periodic\")\n",
    "plot(fit_stl)\n",
    "#while the remainder component was better from t.window=7 onwards but in order to make the trend smoother, we \n",
    "#have coninued it to 25"
   ]
  },
  {
   "cell_type": "markdown",
   "metadata": {},
   "source": [
    "Seasonality: we observe a 12 month seasonality. The peaks are mainly observed in August and valleys in March. This can be directly observed from the seasonal and seasonal polar plots\n",
    "\n",
    "Trend/Cycle: We observe an increasing trend from 2002-2003 onwards. before that, we did observe a slight increase in 2001 but the trend quickly declines. Overall, there is an increasing trend\n",
    "\n",
    "Unusual Features: We observe in the decomposition that as prviously mentioned, there is an increase in trend in 2001 but then a continous increase from 2003 onwards"
   ]
  },
  {
   "cell_type": "markdown",
   "metadata": {},
   "source": [
    "<div class=\"alert alert-block alert-warning\">\n",
    "<a id=\"Causes\"></a>\n",
    "\n",
    "# Potential causes (300 words max.) (3 marks)\n",
    "\n",
    "Describe what could be causing the patterns that you are seeing in electricity use. Create any relevant plots and include them. Make sure to discuss any specific features of plots. Remember that the original dataset includes other variables! (300 words max.)  \n",
    "</div>"
   ]
  },
  {
   "cell_type": "markdown",
   "metadata": {},
   "source": [
    "There are multiple reasons due to which the electricity usuage at YVR airport might increase:\n",
    "- Increase in number of flights over years\n",
    "- Change in operating hours for the airport\n",
    "- Global warming effects\n",
    "- increase in flight partners\n",
    "\n",
    "As the consumer demand has increased over the years, can cause the sudden increase in trend of energy consumption. This would also require the airport to be open more often as compared to before. Increasing consumer demand also causes more competitors to join the market and hence the energy consumption increase.\n",
    "\n",
    "Due to global warming effects, the aiport might have to divert more energy towards maintaining a warmer tempretaure in the airport. \n",
    "\n",
    "<b> include relevant plots"
   ]
  },
  {
   "cell_type": "markdown",
   "metadata": {},
   "source": [
    "----"
   ]
  },
  {
   "cell_type": "markdown",
   "metadata": {},
   "source": [
    "<div class=\"alert alert-block alert-success\">\n",
    "<a id=\"Basic\"></a>\n",
    "\n",
    "# Basic forecasting methods\n",
    "</div>  "
   ]
  },
  {
   "cell_type": "markdown",
   "metadata": {},
   "source": [
    "Use the basic methods we have learned to develop forecasts for the test set. Plot in the following colours:  \n",
    "\n",
    "mean method (blue)  \n",
    "drift method (green)  \n",
    "naïve method (red)  \n",
    "seasonal naïve method (purple)  "
   ]
  },
  {
   "cell_type": "markdown",
   "metadata": {},
   "source": [
    " \n",
    "## Visual comparison and assessment of basic methods (1.25 marks)\n",
    "\n",
    "Plot the training set and test set data in black. Include the forecasts of the test set for each of the basic forecasting methods in a different colour (colours are given above) with a legend to explain.  \n",
    "\n",
    "Prepare the plot for publication and upload it.\n",
    "\n",
    " \n",
    "\n",
    "From a visual assessment, which of the basic forecasting methods seems to produce the best forecasts of the test set? Discuss briefly. (4 sentences max.)  \n",
    "    "
   ]
  },
  {
   "cell_type": "code",
   "execution_count": null,
   "metadata": {},
   "outputs": [],
   "source": [
    "plot(train, ylab=\"Electricity Usage (Thousands Kwh)\", xlab=\"Year\", main=\"YVR Monthly Energy Consumption (1997-2010)\", xlim=c(1997, 2011),ylim = c(5000,10000), type=\"o\")\n",
    "lines(test, col=\"black\", type=\"o\") # plot the test set\n",
    "\n",
    "lines(meanf(train, h=36)$mean, col=\"blue\", type=\"o\")\n",
    "lines(naive(train, h=36)$mean,col=\"red\", type=\"o\")\n",
    "lines(rwf(train, drift=TRUE, h=36)$mean, col=\"green\", type=\"o\")\n",
    "lines(forecast(snaive(train, h=36))$mean, col=\"purple\",type=\"o\")\n",
    "\n",
    "legend(\"topleft\",lty=1,col=c(\"blue\", \"red\",\"green\", \"purple\"), legend=c(\"Mean method\",\"Naive method\",\"Drift method\", \"Seasonal naive\"))\n"
   ]
  },
  {
   "cell_type": "markdown",
   "metadata": {},
   "source": [
    "Based on the above graph, seasonal naive method follows the seasonality of the data correctly. \n",
    "\n",
    "But we will choose the drift method as the best method as it correctly identfies the trend in the data "
   ]
  },
  {
   "cell_type": "markdown",
   "metadata": {},
   "source": [
    "## Accuracy measures (1 mark)\n",
    "Create a table with the RMSE, MAE, MAPE, and MASE for the test set for each of the four basic methods. Round values to 1 decimal place."
   ]
  },
  {
   "cell_type": "code",
   "execution_count": null,
   "metadata": {},
   "outputs": [],
   "source": [
    "elec.mean <- meanf(train, h=36)\n",
    "elec.naive <- naive(train, h=36)\n",
    "elec.drift <- rwf(train, drift=TRUE, h=36)\n",
    "elec.seasn <- ses(train, h=36)\n",
    "\n",
    "method <- c(\"mean method\", \"naive method\", \"drift method\", \"Seasonal Naive\")\n",
    "accuracy_measures<- data.frame(cbind(method, rbind(accuracy(elec.mean, test)[2,c(2,3,5,6)],\n",
    "                    accuracy(elec.naive, test)[2,c(2,3,5,6)],\n",
    "                    accuracy(elec.drift, test)[2,c(2,3,5,6)],\n",
    "                    accuracy(elec.seasn, test)[2,c(2,3,5,6)])))\n",
    "accuracy_measures\n"
   ]
  },
  {
   "cell_type": "markdown",
   "metadata": {},
   "source": [
    "## Comparison of basic methods (1 mark)\n",
    "Based on the accuracy measures for the test set, which of the basic forecasting methods seems to forecast the test set the best? Interpret the MASE for this method. (4 sentences max.) "
   ]
  },
  {
   "cell_type": "markdown",
   "metadata": {},
   "source": [
    "As expected, we observe that drift method method has the best accuracy measure, comparing the RMSE (lower the better) across all the methods. looking at the MASE (lower the better), then also we see that the drift method is better. "
   ]
  },
  {
   "cell_type": "markdown",
   "metadata": {},
   "source": [
    "----"
   ]
  },
  {
   "cell_type": "markdown",
   "metadata": {},
   "source": [
    "<div class=\"alert alert-block alert-success\">\n",
    "<a id=\"ETS\"></a>\n",
    "\n",
    "# Exponential Smoothing (ETS) model\n",
    "\n",
    "Fit ETS models to the training set. Find your best model and present it here. Include any other models you tried in **Appendix A**.\n",
    "    \n",
    "</div>    "
   ]
  },
  {
   "cell_type": "markdown",
   "metadata": {},
   "source": [
    "## What is the model, using the ETS(__, __, __) notation? (0.25 marks)"
   ]
  },
  {
   "cell_type": "markdown",
   "metadata": {},
   "source": [
    "Based on the stl decomposition, we do observe an additivetrend, a constant seasonality suggesting a additive seasonality. in terms of error, we can try both additive and multiplicative error terms. "
   ]
  },
  {
   "cell_type": "code",
   "execution_count": null,
   "metadata": {},
   "outputs": [],
   "source": [
    "# MAA model\n",
    "fit.ets.2<- ets(train, model = \"MAA\")\n",
    "summary(fit.ets.2)\n",
    "checkresiduals(fit.ets.2)"
   ]
  },
  {
   "cell_type": "markdown",
   "metadata": {},
   "source": [
    "## What are the estimates of the smoothing parameters? (0.25 marks)"
   ]
  },
  {
   "cell_type": "markdown",
   "metadata": {},
   "source": [
    "Smoothing parameter estimates:\n",
    "alpha = 0.8082 \n",
    "beta  = 1e-04 \n",
    "gamma = 1e-04 "
   ]
  },
  {
   "cell_type": "markdown",
   "metadata": {},
   "source": [
    "## Explain why this model is appropriate based on the features of the data. (4 sentences max.) (1.5 marks)"
   ]
  },
  {
   "cell_type": "markdown",
   "metadata": {},
   "source": [
    "Looking at the residual and ACF plots of the models, the ACF plot for the addtive error model shows one significant factor. We will choose the MAA model for our approach. We do observe some peaks and valleys in the residual plot but the ACF plot shows no significant autocorrelations. The residuals are also normally distributed, indiciating a good model"
   ]
  },
  {
   "cell_type": "markdown",
   "metadata": {},
   "source": [
    "## Model plot (0.75 marks)\n",
    "\n",
    "Create a time plot of the data in black with a gap between the training set and test set data.\n",
    "\n",
    "Show the fitted values of the model graphed in blue. Show the forecasts for the test set with a bold blue line and the 80% and 95% prediction intervals as shaded regions.\n",
    "\n",
    "Prepare this plot for publication and upload it."
   ]
  },
  {
   "cell_type": "code",
   "execution_count": null,
   "metadata": {},
   "outputs": [],
   "source": [
    "#using the auto ets model to compare\n",
    "plot(forecast(fit.ets.2,h=36),ylab=\"Enery Usage at YVR (Thousands Kwh)\",xlab=\"Year\", fcol='blue')\n",
    "lines(test)\n",
    "lines(fitted(fit.ets.2), col=\"blue\")\n",
    "\n",
    "legend(\"topleft\",\n",
    "       lty=1, lwd=2,\n",
    "       ,col=c('black','blue')\n",
    "       ,legend=c(\"Original data\",\"ETS(M,A,A)\"))\n"
   ]
  },
  {
   "cell_type": "markdown",
   "metadata": {},
   "source": [
    "## Goodness of fit (1 mark)\n",
    "\n",
    "Quantify and discuss the goodness of fit of the model to the training set. You can compare this model to other ETS models that you tried. (Present any values, then 4 sentences max.)"
   ]
  },
  {
   "cell_type": "code",
   "execution_count": null,
   "metadata": {},
   "outputs": [],
   "source": [
    "fit.ets.2<- accuracy(forecast(fit.ets.2,h=36))\n",
    "fit.ets.2"
   ]
  },
  {
   "cell_type": "markdown",
   "metadata": {},
   "source": [
    "for the training set, AAA model shows the lowest RMSE but the difference between the RMSE (lower the better) for all the models is really small. Additionally, MAPE for the ANA model is the lowest. We need to check the accuracy measures for all the models to define the best model. "
   ]
  },
  {
   "cell_type": "markdown",
   "metadata": {},
   "source": [
    "## Accuracy measures (1 mark)\n",
    "Calculate the accuracy measures (RMSE, MAE, MAPE, MASE) to show how well the model forecasts for the test set."
   ]
  },
  {
   "cell_type": "code",
   "execution_count": null,
   "metadata": {},
   "outputs": [],
   "source": [
    "accuracy.ets.2<- accuracy(forecast(fit.ets.2,h=36),test)\n",
    "accuracy.ets.2"
   ]
  },
  {
   "cell_type": "markdown",
   "metadata": {},
   "source": [
    "Based on the above, we observe that MAA model performs the best, with the lowest values of RMSE and MAPE."
   ]
  },
  {
   "cell_type": "markdown",
   "metadata": {},
   "source": [
    "## Accuracy of forecasts (1 mark)\n",
    "Discuss how well this model forecasts the test set based on any plots or values that you calculated in previous questions. Remember that you can compare it to the basic methods. (4 sentences max.)"
   ]
  },
  {
   "cell_type": "code",
   "execution_count": null,
   "metadata": {},
   "outputs": [],
   "source": [
    "#plot of graph\n",
    "plot(forecast(fit.ets.2,h=36),ylab=\"Enery Usage at YVR (Thousands Kwh)\",xlab=\"Year\", fcol='blue')\n",
    "lines(test)\n",
    "lines(fitted(fit.ets.2,h=36), col=\"blue\")\n",
    "lines(meanf(train, h=36)$mean, col=\"yellow\", type=\"o\")\n",
    "lines(naive(train, h=36)$mean,col=\"red\", type=\"o\")\n",
    "lines(rwf(train, drift=TRUE, h=36)$mean, col=\"green\", type=\"o\")\n",
    "lines(forecast(snaive(train, h=36))$mean, col=\"purple\",type=\"o\")\n",
    "\n",
    "legend(\"topleft\",lty=1,col=c(\"blue\",\"yellow\" ,\"red\",\"green\", \"purple\"), legend=c(\"ETS(M,A,A)\",\"Mean method\",\"Naive method\",\"Drift method\", \"Seasonal naive\"))\n"
   ]
  },
  {
   "cell_type": "markdown",
   "metadata": {},
   "source": [
    "## Residual diagnostics (3.5 marks)\n",
    "\n",
    "a) Calculate the mean of the residuals. Does this value indicate bias? (0.5 marks)  \n",
    "b) Use the checkresiduals() function. Which properties of residuals have been met or not met according to these plots? (2 marks)  \n",
    "c) Interpret the results of a portmanteau test for autocorrelations. Clearly state the hypotheses, the number of lags tested, the test statistic, p-value, decision, and concluding sentence. (1 mark)  "
   ]
  },
  {
   "cell_type": "code",
   "execution_count": null,
   "metadata": {},
   "outputs": [],
   "source": [
    "#mean of residuals\n",
    "res <- residuals(fit.ets.2)\n",
    "mean_res <- mean(res, na.rm=TRUE)\n",
    "mean_res\n",
    "\n",
    "#check residuals\n",
    "checkresiduals(fit.ets.2)"
   ]
  },
  {
   "cell_type": "markdown",
   "metadata": {},
   "source": [
    "the mean of the residuals is really close to 0, indicating that there is no bias in the model\n",
    "\n",
    "based on check residuals function, we observe that none of the autocorrelations are significant. The variance of the residuals are also almost constant apart for 2 peaks(199-2000, 2004-2005) and 1 valley (2004-2005)\n",
    "\n",
    "<b> test of autocorrelations\n",
    "    \n",
    "Hypotheses: \n",
    "    \n",
    "    H0: the first h autocorrelations are not significantly different from a white noise process\n",
    "    HA: the first h autocorrelations are significantly different from a white noise process\n",
    "    \n",
    "the number of lags tested: h= 24 lags\n",
    "    \n",
    "the test statistic: Q* = 12.469\n",
    "    \n",
    "p-value: 0.1315\n",
    "    \n",
    "decision: fail to reject the null hypothesis\n",
    "    \n",
    "concluding sentence: we failed to reject that the autocorrelations different from white noise"
   ]
  },
  {
   "cell_type": "markdown",
   "metadata": {},
   "source": [
    "<div class=\"alert alert-block alert-success\">\n",
    "<a id=\"ARIMA\"></a>\n",
    "    \n",
    "# ARIMA model\n",
    "    \n",
    "Fit ARIMA models to the training set. Find your best model and present it here. Include any other models you tried in **Appendix B**.\n",
    "    \n",
    "</div>    "
   ]
  },
  {
   "cell_type": "markdown",
   "metadata": {},
   "source": [
    "## What is the model, using the ARIMA(p, d, q)X(P, D, Q)m notation? (0.25 marks)"
   ]
  },
  {
   "cell_type": "markdown",
   "metadata": {},
   "source": [
    "ARIMA(0,1,1)x(0,1,2)12"
   ]
  },
  {
   "cell_type": "markdown",
   "metadata": {},
   "source": [
    "## What are the estimates of the parameters? (0.25 marks)"
   ]
  },
  {
   "cell_type": "markdown",
   "metadata": {},
   "source": [
    "estimates of the parameters\n",
    "- ma1 = -0.2161\n",
    "- sma1 = -0.8608\n",
    "- sma2 = -0.1392"
   ]
  },
  {
   "cell_type": "markdown",
   "metadata": {},
   "source": [
    "## Appropriateness of model (2 marks)\n",
    "Explain why this model is appropriate based on the features of the data. Include the ACF and PACF plots of the differenced data. (5 sentences max.)"
   ]
  },
  {
   "cell_type": "code",
   "execution_count": null,
   "metadata": {},
   "outputs": [],
   "source": [
    "par(mfrow=c(1,2))\n",
    "Acf(diff(diff(train,12)),lag = 40)\n",
    "Pacf(diff(diff(train,12)),lag = 40)"
   ]
  },
  {
   "cell_type": "markdown",
   "metadata": {},
   "source": [
    "Based on the ACF and PACF plots of the differenced data, we observe:\n",
    "- Seasonal Component (lags 12,24,36....): 3 Lags (12,24,36) in both ACF and PACF graphs are significant. So we should try either a 2 or 3 values of P (based on PACF) or 2 or 3 as the value of Q (based on ACF)\n",
    "- Non Seasonal Component (lags 1,2,3,4....): IN both ACF and PACF plots, we have 2 significant components initially, before it goes to 0. hence we should try 1 or 2 for p (based on PACF) or 1 or 2 for q (based on ACF)\n",
    "\n",
    "After trying the candidate models (check appendix), the above mentioned model provides the best output."
   ]
  },
  {
   "cell_type": "markdown",
   "metadata": {},
   "source": [
    "## Model plot (0.75 marks)\n",
    "\n",
    "Create a time plot of the data in black with a gap between the training set and test set data.\n",
    "\n",
    "Show the fitted values of the model graphed in blue. Show the forecasts for the test set with a bold blue line and the 80% and 95% prediction intervals as shaded regions.\n",
    "\n",
    "Prepare this plot for publication and upload it."
   ]
  },
  {
   "cell_type": "code",
   "execution_count": null,
   "metadata": {},
   "outputs": [],
   "source": [
    "\n",
    "arima.fit.3<- Arima(train, order = c(0,1,1), seasonal = c(0,1,2))\n",
    "\n",
    "plot(forecast(arima.fit.3,h=36)\n",
    "    ,main = \"YVR Monthly Energy Consumption - ARIMA model\"\n",
    "    ,xlab=\"Year\"\n",
    "    ,ylab=\"Electricity consumption (thousands KWh)\")\n",
    "\n",
    "lines(test,col='black')\n",
    "lines(fitted(forecast(arima.fit.3,h=36)), col=\"red\")\n",
    "\n",
    "legend(\"topleft\"\n",
    "       ,lty=1, lwd=2\n",
    "       ,col=c('black','red')\n",
    "       ,legend=c(\"Original data\",\"ARIMA(0, 1, 1)X(0, 1, 2)12\"))"
   ]
  },
  {
   "cell_type": "markdown",
   "metadata": {},
   "source": [
    "## Goodness of fit (1 mark)\n",
    "\n",
    "Quantify and discuss the goodness of fit of the model to the training set. You can compare this model to other ARIMA models that you tried. (Present any values, then 4 sentences max.)"
   ]
  },
  {
   "cell_type": "code",
   "execution_count": null,
   "metadata": {},
   "outputs": [],
   "source": [
    "method <- c(\"Mean method\",\"Drift method\",\"Naive method\",\"Seasonal naive method\",\"ARIMA(0, 1, 3)X(0, 1, 3)12\")\n",
    "accuracy_measures <-cbind(method, rbind(round(accuracy(elec.mean)[1,c(2,3,5,6)],2)\n",
    "                          ,round(accuracy(elec.drift)[1,c(2,3,5,6)],2)\n",
    "                          ,round(accuracy(elec.naive)[1,c(2,3,5,6)],2)\n",
    "                          ,round(accuracy(elec.seasn)[1,c(2,3,5,6)],2)\n",
    "                          ,round(accuracy(arima.fit.3)[1,c(2,3,5,6)],2)))\n",
    "\n",
    "accuracy_measures"
   ]
  },
  {
   "cell_type": "markdown",
   "metadata": {},
   "source": [
    "## Accuracy measures (1 mark)\n",
    "Calculate the accuracy measures (RMSE, MAE, MAPE, MASE) to show how well the model forecasts for the test set."
   ]
  },
  {
   "cell_type": "code",
   "execution_count": null,
   "metadata": {},
   "outputs": [],
   "source": [
    "accuracy(forecast(arima.fit.3,h=36), test)"
   ]
  },
  {
   "cell_type": "markdown",
   "metadata": {},
   "source": [
    "## Accuracy of forecasts (1 mark)\n",
    "Discuss how well this model forecasts the test set based on any plots or values that you calculated in previous questions. Remember that you can compare it to the basic methods. (4 sentences max.)"
   ]
  },
  {
   "cell_type": "code",
   "execution_count": null,
   "metadata": {},
   "outputs": [],
   "source": [
    "method <- c(\"mean method\", \"naive method\", \"drift method\", \"Seasonal Naive\",\"ARIMA(0,1,1)x(0,1,2)12\")\n",
    "accuracy_measures<- data.frame(cbind(method, rbind(accuracy(elec.mean, test)[2,c(2,3,5,6)],\n",
    "                    accuracy(elec.naive, test)[2,c(2,3,5,6)],\n",
    "                    accuracy(elec.drift, test)[2,c(2,3,5,6)],\n",
    "                    accuracy(elec.seasn, test)[2,c(2,3,5,6)],\n",
    "                    accuracy(forecast(arima.fit.3,h=36), test)[2,c(2,3,5,6)])))\n",
    "accuracy_measures"
   ]
  },
  {
   "cell_type": "markdown",
   "metadata": {},
   "source": [
    "## Residual diagnostics (3.5 marks)\n",
    "\n",
    "a) Calculate the mean of the residuals. Does this value indicate bias? (0.5 marks)  \n",
    "b) Use the checkresiduals() function. Which properties of residuals have been met or not met according to these plots? (2 marks)  \n",
    "c) Interpret the results of a portmanteau test for autocorrelations. Clearly state the hypotheses, the number of lags tested, the test statistic, p-value, decision, and concluding sentence. (1 mark)  "
   ]
  },
  {
   "cell_type": "code",
   "execution_count": null,
   "metadata": {},
   "outputs": [],
   "source": [
    "#mean of residuals\n",
    "res <- residuals(arima.fit.3)\n",
    "mean_res <- mean(res, na.rm=TRUE)\n",
    "mean_res\n",
    "\n",
    "#check residuals\n",
    "checkresiduals(arima.fit.3)"
   ]
  },
  {
   "cell_type": "markdown",
   "metadata": {},
   "source": [
    "the mean of the residuals is not close to 0, indicating that there might be some bias in the model\n",
    "\n",
    "based on check residuals function, we observe that 1 autocorrelation is significant. The variance of the residuals are also almost constant apart for 2 peaks(1999-2000, 2004-2005) and 1 valley (2004-2005)\n",
    "\n",
    "<b> test of autocorrelations\n",
    "    \n",
    "Hypotheses: \n",
    "    \n",
    "    H0: the first h autocorrelations are not significantly different from a white noise process\n",
    "    HA: the first h autocorrelations are significantly different from a white noise process\n",
    "    \n",
    "the number of lags tested: h= 24 lags\n",
    "    \n",
    "the test statistic: Q* = 19\n",
    "    \n",
    "p-value: 0.5851\n",
    "    \n",
    "decision: fail to reject the null hypothesis\n",
    "    \n",
    "concluding sentence: we failed to reject that the autocorrelations different from white noise. Hence the correlations are not significant\n"
   ]
  },
  {
   "cell_type": "markdown",
   "metadata": {},
   "source": [
    "----"
   ]
  },
  {
   "cell_type": "markdown",
   "metadata": {},
   "source": [
    "<div class=\"alert alert-block alert-warning\">\n",
    "<a id=\"Comparison\"></a>\n",
    "\n",
    "# Comparison of models (200 words max.) (2 marks)  \n",
    "\n",
    "Compare your exponential smoothing/ETS model, your ARIMA model, and the basic methods. Which one is your best forecasting method (this will be your final model that is used in the next two sections)? Explain using support from previous questions as well as by creating a plot to compare the forecasts for the test set for the different methods.  \n",
    "<div>\n"
   ]
  },
  {
   "cell_type": "code",
   "execution_count": null,
   "metadata": {},
   "outputs": [],
   "source": [
    "plot(energy_use_ts\n",
    "     ,main = \"Monthly energy - YVR airport - method comparison\"\n",
    "     ,xlab=\"Year\"\n",
    "     ,ylab=\"Electricity consumption - in thousands KWh\"\n",
    "     ,lwd = 3)\n",
    "\n",
    "lines(meanf(train, h=36)$mean,col='blue',lwd=2)\n",
    "lines(rwf(train, drift=TRUE, h=36)$mean,col='green',lwd=2)\n",
    "lines(naive(train, h=36)$mean,col='red',lwd=2)\n",
    "lines(snaive(train, h=36)$mean,col='purple',lwd=2)\n",
    "lines(forecast(fit.ets.1,h=36)$mean, col=\"gold\", lwd=2)\n",
    "lines(forecast(arima.fit.3,h=36)$mean,col='pink',lwd=2)\n",
    "\n",
    "legend(\"topleft\"\n",
    "       ,lty=1, lwd=2\n",
    "       ,col=c('black','blue','green','red','purple','gold','pink')\n",
    "       ,legend=c(\"Original data\",\"Mean method\",\"Drift method\",\"Naive method\",\"Seasonal naive method\",'ETS (A,N,A)','ARIMA(0, 1, 1)X(0, 1, 2)12'))"
   ]
  },
  {
   "cell_type": "code",
   "execution_count": null,
   "metadata": {},
   "outputs": [],
   "source": [
    "method <- c(\"mean method\", \"naive method\", \"drift method\", \"Seasonal Naive\",\"ARIMA(0,1,1)x(0,1,2)12\",\"ETS(M,A,A)\")\n",
    "accuracy_measures<- data.frame(cbind(method, rbind(accuracy(elec.mean, test)[2,c(2,3,5,6)],\n",
    "                    accuracy(elec.naive, test)[2,c(2,3,5,6)],\n",
    "                    accuracy(elec.drift, test)[2,c(2,3,5,6)],\n",
    "                    accuracy(elec.seasn, test)[2,c(2,3,5,6)],\n",
    "                    accuracy(forecast(arima.fit.3,h=36), test)[2,c(2,3,5,6)],\n",
    "                    accuracy(forecast(fit.ets.2,h=36), test)[2,c(2,3,5,6)])))\n",
    "accuracy_measures"
   ]
  },
  {
   "cell_type": "code",
   "execution_count": null,
   "metadata": {},
   "outputs": [],
   "source": [
    "#now lets just take a look at the ARIMA and ETS models\n",
    "plot(energy_use_ts\n",
    "     ,main = \"Monthly energy - YVR airport - method comparison\"\n",
    "     ,xlab=\"Year\"\n",
    "     ,ylab=\"Electricity consumption - in thousands KWh\"\n",
    "     ,lwd = 3)\n",
    "\n",
    "lines(forecast(fit.ets.2,h=36)$mean, col=\"gold\", lwd=2)\n",
    "lines(forecast(arima.fit.3,h=36)$mean,col='pink',lwd=2)\n",
    "\n",
    "legend(\"topleft\"\n",
    "       ,lty=1, lwd=2\n",
    "       ,col=c('black','gold','pink')\n",
    "       ,legend=c(\"Original data\",'ETS (A,N,A)','ARIMA(0, 1, 1)X(0, 1, 2)12'))"
   ]
  },
  {
   "cell_type": "markdown",
   "metadata": {},
   "source": [
    "<div class=\"alert alert-block alert-info\"> \n",
    "<a id=\"Forecasts\"></a>   \n",
    "    \n",
    "# Forecasts (1.25 marks)\n",
    "\n",
    "Calculate the point forecasts using your final model for the next three years (January 2011 through December 2013).\n",
    "\n",
    "Plot the entire dataset with the forecasts from your best forecasting method, including prediction intervals.\n",
    "</div>"
   ]
  },
  {
   "cell_type": "code",
   "execution_count": null,
   "metadata": {},
   "outputs": [],
   "source": [
    "final_model <- ets(train,model = 'MAA')\n",
    "final_model\n",
    "\n",
    "final_forecast <-forecast(final_model,h=36)\n",
    "final_forecast"
   ]
  },
  {
   "cell_type": "markdown",
   "metadata": {},
   "source": [
    "<div class=\"alert alert-block alert-warning\">\n",
    "<a id=\"Discussion\"></a>\n",
    "\n",
    "# Discussion (300 words max.) (3 marks)\n",
    "\n",
    "Discuss three limitations of this final model, and recommendations to address these limitations. (300 words max.)\n",
    "<div>\n"
   ]
  },
  {
   "cell_type": "markdown",
   "metadata": {},
   "source": []
  },
  {
   "cell_type": "markdown",
   "metadata": {},
   "source": [
    "<div class=\"alert alert-block alert-success\">\n",
    "<a id=\"Explanatory\"></a>\n",
    "\n",
    "# Explanatory model (200 words max.) (2 marks)\n",
    "\n",
    "Describe a possible explanatory model to try (you do not have to create this model). Explain the process required to be able to use this model to forecast.  \n",
    "</div>"
   ]
  },
  {
   "cell_type": "markdown",
   "metadata": {},
   "source": [
    "To create an explanatory model, we will have to understand the facors affecting the overall energy consumption at YVR. We will have to find one of more independent variables that explain the varaibility in energy consumption. We can try a multiple linear regression model and define the independent variables we are going to use to predict the energy consumption. We will follow the below steps for this model:\n",
    "\n",
    "- data cleaning\n",
    "- exploring the correlation matrix and scatter plots\n",
    "- using an additive method to add variables and continously remove variables based on VIF and sutocorrelation factors\n",
    "- Finalize the model\n",
    "\n",
    "We can try this approach to fully quantify the factors affecting the energy consumption currently"
   ]
  },
  {
   "cell_type": "markdown",
   "metadata": {},
   "source": [
    "----"
   ]
  },
  {
   "cell_type": "markdown",
   "metadata": {},
   "source": [
    "<div class=\"alert alert-block alert-danger\">\n",
    "<a id=\"AppendixA\"></a>\n",
    "\n",
    "# Appendix A:\n",
    "# ETS models (1 mark)\n",
    "</div>"
   ]
  },
  {
   "cell_type": "code",
   "execution_count": null,
   "metadata": {},
   "outputs": [],
   "source": [
    "fit.ets.1<- accuracy(forecast(fit.ets.1,h=36))\n",
    "fit.ets.1\n",
    "\n",
    "fit.ets.3<- accuracy(forecast(fit.ets.3,h=36))\n",
    "fit.ets.3\n",
    "\n",
    "accuracy.ets.1<- accuracy(forecast(fit.ets.1,h=36),test)\n",
    "accuracy.ets.1\n",
    "\n",
    "accuracy.ets.3<- accuracy(forecast(fit.ets.3,h=36),test)\n",
    "accuracy.ets.2\n"
   ]
  },
  {
   "cell_type": "markdown",
   "metadata": {},
   "source": [
    "---"
   ]
  },
  {
   "cell_type": "markdown",
   "metadata": {},
   "source": [
    "<div class=\"alert alert-block alert-danger\">\n",
    "<a id=\"AppendixB\"></a>\n",
    "\n",
    "# Appendix B:\n",
    "# ARIMA Models (1 mark)\n",
    "</div>"
   ]
  },
  {
   "cell_type": "code",
   "execution_count": 4,
   "metadata": {},
   "outputs": [],
   "source": [
    "arima.fit.1<- Arima(train, order = c(1,1,0), seasonal = c(2,1,0))\n",
    "summary(arima.fit.1)\n",
    "\n",
    "arima.accuracy.1<- accuracy(forecast(arima.fit.1,h=36),test)\n",
    "arima.accuracy.1\n",
    "\n",
    "arima.fit.2<- Arima(train, order = c(1,1,0), seasonal = c(3,1,0))\n",
    "summary(arima.fit.2)\n",
    "\n",
    "arima.accuracy.2<- accuracy(forecast(arima.fit.2,h=36),test)\n",
    "arima.accuracy.2\n",
    "\n",
    "arima.fit.4<- auto.arima(train)\n",
    "summary(arima.fit.4)\n"
   ]
  }
 ],
 "metadata": {
  "kernelspec": {
   "display_name": "R",
   "language": "R",
   "name": "ir"
  },
  "language_info": {
   "codemirror_mode": "r",
   "file_extension": ".r",
   "mimetype": "text/x-r-source",
   "name": "R",
   "pygments_lexer": "r",
   "version": "3.6.1"
  }
 },
 "nbformat": 4,
 "nbformat_minor": 4
}
